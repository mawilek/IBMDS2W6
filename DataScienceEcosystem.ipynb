{
 "cells": [
  {
   "cell_type": "markdown",
   "id": "b0ace19b-c838-4779-a404-90016be2a5b5",
   "metadata": {},
   "source": [
    "# Data Science Tools and Ecosystem"
   ]
  },
  {
   "cell_type": "markdown",
   "id": "2607d807-2d1d-46ea-b129-5fe2d990b733",
   "metadata": {},
   "source": [
    "In this notebook, Data Science Tools and Ecosystem are summarized."
   ]
  },
  {
   "cell_type": "markdown",
   "id": "4cb72cb4-97cf-4511-8efd-4e26d55c2413",
   "metadata": {},
   "source": [
    "Objectives:\r\n",
    "* List popular languages for Data Science\r\n",
    "* List libraries commonly used by Data Scientists\r\n",
    "* Remember development environments mentioned in the course\r\n",
    "* Practice arithmetic expressions in Python \r\n",
    "* Practice markdown in Jupyter Notebook"
   ]
  },
  {
   "cell_type": "markdown",
   "id": "5f22aea5-1939-4228-b1c5-2b2f6a21c329",
   "metadata": {},
   "source": [
    "Some of the popular languages that Data Scientists use are:\n",
    "1. Julia\n",
    "2. Python\n",
    "3. R\n",
    "4. SQL\n",
    "5. Java\n",
    "6. C++"
   ]
  },
  {
   "cell_type": "markdown",
   "id": "e134ee43-c259-4496-87bb-b0c626272ac1",
   "metadata": {},
   "source": [
    "Some of the commonly used libraries used by Data Scientists include:\n",
    "1. Pandas\n",
    "2. PyTorch\n",
    "3. NumPy\n",
    "4. ggplot2\n",
    "5. GGally\n",
    "6. Keras"
   ]
  },
  {
   "cell_type": "markdown",
   "id": "eb3a7f4e-63bb-44c7-8a57-fa2643ffdb7e",
   "metadata": {},
   "source": [
    "| Data Science Tools |\n",
    "|---|\n",
    "|Jupyther Notebook|\n",
    "|RStudio|\n",
    "|Visual Studio Code|"
   ]
  },
  {
   "cell_type": "markdown",
   "id": "1a1368ad-a9d6-49d3-b1a3-2bb308d17dc3",
   "metadata": {},
   "source": [
    "### Below are a few examples of evaluating arithmetic expressions in Python"
   ]
  },
  {
   "cell_type": "code",
   "execution_count": 1,
   "id": "d25d4ce4-4777-42b0-b2a1-114e57e50d6d",
   "metadata": {},
   "outputs": [
    {
     "data": {
      "text/plain": [
       "17"
      ]
     },
     "execution_count": 1,
     "metadata": {},
     "output_type": "execute_result"
    }
   ],
   "source": [
    "# This a simple arithmetic expression to mutiply then add integers\n",
    "(3*4)+5"
   ]
  },
  {
   "cell_type": "code",
   "execution_count": 2,
   "id": "bb73312a-2c44-4005-907f-ea80d9e41a7d",
   "metadata": {},
   "outputs": [
    {
     "name": "stdout",
     "output_type": "stream",
     "text": [
      "3.33\n"
     ]
    }
   ],
   "source": [
    "# This will convert 200 minutes to hours by diving by 60\n",
    "minutes = 200\n",
    "hours = minutes / 60\n",
    "print (round (hours,2))"
   ]
  },
  {
   "cell_type": "markdown",
   "id": "9811f643-01a5-4183-9952-497ccc836369",
   "metadata": {},
   "source": [
    "## Author\n",
    "Kirill Shilimanov"
   ]
  }
 ],
 "metadata": {
  "kernelspec": {
   "display_name": "Python 3 (ipykernel)",
   "language": "python",
   "name": "python3"
  },
  "language_info": {
   "codemirror_mode": {
    "name": "ipython",
    "version": 3
   },
   "file_extension": ".py",
   "mimetype": "text/x-python",
   "name": "python",
   "nbconvert_exporter": "python",
   "pygments_lexer": "ipython3",
   "version": "3.11.5"
  }
 },
 "nbformat": 4,
 "nbformat_minor": 5
}
